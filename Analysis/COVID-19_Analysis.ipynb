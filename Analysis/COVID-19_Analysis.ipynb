{
 "cells": [
  {
   "cell_type": "markdown",
   "metadata": {},
   "source": [
    "# Covid-19 Research"
   ]
  },
  {
   "cell_type": "markdown",
   "metadata": {},
   "source": [
    "Conclusions:\n",
    "- impact of social distancing\n",
    "- Forcasting China's true numbers\n",
    "- Predicting hot spots (Canadian & US Cities)\n",
    "- Calculation of hospital capacity by locality and estimating the breaking point\n",
    "- Predicting required supplies (ventilators, masks/gowns)\n",
    "- Financial impact (Stock market?) ($ removed from econ) (impact of stimulus/bailout provided by governments)\n",
    "    "
   ]
  },
  {
   "cell_type": "markdown",
   "metadata": {},
   "source": [
    "Data sources:\n",
    " - https://github.com/CSSEGISandData/COVID-19 (infection and mortality rates by country/city)\n",
    " - https://www.safegraph.com/dashboard/covid19-commerce-patterns?is=5e7a66538dd3816c985d8fc7 (Human movement data for US, cellphone GPS)\n",
    " - https://www.kaggle.com/koryto/countryinfo (demographic data by country)\n",
    "\n",
    "Wanted Data:\n",
    " - Screening tool results"
   ]
  },
  {
   "cell_type": "markdown",
   "metadata": {},
   "source": [
    "## Notebook Setup"
   ]
  },
  {
   "cell_type": "code",
   "execution_count": 1,
   "metadata": {},
   "outputs": [],
   "source": [
    "import numpy as np\n",
    "import pandas as pd\n",
    "import matplotlib.pyplot as plt"
   ]
  },
  {
   "cell_type": "markdown",
   "metadata": {},
   "source": [
    "Collecting Global Data"
   ]
  },
  {
   "cell_type": "code",
   "execution_count": null,
   "metadata": {},
   "outputs": [],
   "source": [
    "confirmed_global = pd.read_csv(\"../csse_covid_19_data/csse_covid_19_time_series/time_series_covid19_confirmed_global.csv\")\n",
    "death_global = pd.read_csv(\"../csse_covid_19_data/csse_covid_19_time_series/time_series_covid19_deaths_global.csv\")\n",
    "recovered_global = pd.read_csv(\"../csse_covid_19_data/csse_covid_19_time_series/time_series_covid19_recovered_global.csv\")"
   ]
  },
  {
   "cell_type": "code",
   "execution_count": null,
   "metadata": {},
   "outputs": [],
   "source": [
    "Collecting US Data"
   ]
  },
  {
   "cell_type": "code",
   "execution_count": 30,
   "metadata": {},
   "outputs": [],
   "source": [
    "confirmed_us = pd.read_csv(\"../csse_covid_19_data/csse_covid_19_time_series/time_series_covid19_confirmed_us.csv\")\n",
    "death_us = pd.read_csv(\"../csse_covid_19_data/csse_covid_19_time_series/time_series_covid19_deaths_us.csv\")\n",
    "recovered_us = recovered_global.loc[recovered_global['Country/Region'] == 'US']\n"
   ]
  },
  {
   "cell_type": "code",
   "execution_count": null,
   "metadata": {
    "collapsed": true
   },
   "outputs": [],
   "source": [
    "Collecting Canadian Data"
   ]
  },
  {
   "cell_type": "code",
   "execution_count": 26,
   "metadata": {},
   "outputs": [],
   "source": [
    "confirmed_canada = confirmed_global.loc[confirmed_global['Country/Region'] == 'Canada']\n",
    "death_canada = death_global.loc[death_global['Country/Region'] == 'Canada']\n",
    "recovered_canada = recovered_global.loc[recovered_global['Country/Region'] == 'Canada']"
   ]
  },
  {
   "cell_type": "code",
   "execution_count": 90,
   "metadata": {
    "scrolled": true
   },
   "outputs": [],
   "source": [
    "def combineMeltRegion(confirmed, death, country, province):\n",
    "    confirmedfiltered = confirmed.loc[(confirmed['Country/Region'] == country) & (confirmed['Province/State'] == province)]\n",
    "    deathfiltered = death.loc[(confirmed['Country/Region'] == country) & (death['Province/State'] == province)]\n",
    "    confirmedfiltered.drop(columns=['Province/State','Country/Region','Lat','Long'],  inplace=True)\n",
    "    deathfiltered.drop(columns=['Province/State','Country/Region','Lat','Long'],  inplace=True)\n",
    "    confirmedfiltered = confirmedfiltered.melt(var_name='Date', value_name='Cases')\n",
    "    deathfiltered = deathfiltered.melt(var_name='Date', value_name='Deaths')\n",
    "    combined = pd.merge(confirmedfiltered, deathfiltered, on='Date')\n",
    "    combined['Date'] = pd.to_datetime(combined['Date'], format='%m/%d/%y')\n",
    "    return combined\n",
    "    "
   ]
  },
  {
   "cell_type": "code",
   "execution_count": 91,
   "metadata": {},
   "outputs": [
    {
     "data": {
      "text/plain": [
       "Date      datetime64[ns]\n",
       "Cases              int64\n",
       "Deaths             int64\n",
       "dtype: object"
      ]
     },
     "execution_count": 91,
     "metadata": {},
     "output_type": "execute_result"
    }
   ],
   "source": [
    "test = combineMeltRegion(confirmed=confirmed_canada, death=death_canada, country='Canada', province='Alberta')\n",
    "test.dtypes"
   ]
  },
  {
   "cell_type": "code",
   "execution_count": null,
   "metadata": {},
   "outputs": [],
   "source": []
  }
 ],
 "metadata": {
  "kernelspec": {
   "display_name": "Python 3",
   "language": "python",
   "name": "python3"
  },
  "language_info": {
   "codemirror_mode": {
    "name": "ipython",
    "version": 3
   },
   "file_extension": ".py",
   "mimetype": "text/x-python",
   "name": "python",
   "nbconvert_exporter": "python",
   "pygments_lexer": "ipython3",
   "version": "3.7.3"
  }
 },
 "nbformat": 4,
 "nbformat_minor": 2
}
